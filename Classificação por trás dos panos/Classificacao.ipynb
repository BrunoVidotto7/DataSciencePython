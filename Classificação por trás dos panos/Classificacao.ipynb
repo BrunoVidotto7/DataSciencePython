{
 "cells": [
  {
   "cell_type": "markdown",
   "id": "intelligent-concentration",
   "metadata": {},
   "source": [
    "# Classificação -  Naive Baies"
   ]
  },
  {
   "cell_type": "markdown",
   "id": "excessive-truck",
   "metadata": {},
   "source": [
    "## Classificar ele vai comprar ou não? - 0 ou 1"
   ]
  },
  {
   "cell_type": "markdown",
   "id": "younger-lincoln",
   "metadata": {},
   "source": [
    "## Um usuário acessa a página da Alura."
   ]
  },
  {
   "cell_type": "markdown",
   "id": "provincial-contemporary",
   "metadata": {},
   "source": [
    "### Acessou a home?, Acessou a como funciona?, Acessou a contato?, Comprou o curso?"
   ]
  },
  {
   "cell_type": "code",
   "execution_count": 1,
   "id": "posted-despite",
   "metadata": {},
   "outputs": [],
   "source": [
    "#   X    Y\n",
    "# 1,0,1, 1\n",
    "# 0,1,0, 0\n",
    "# 1,1,0, 1\n",
    "\n",
    "#X - dados que temos\n",
    "#Y - dados que queremos prever"
   ]
  },
  {
   "cell_type": "code",
   "execution_count": 2,
   "id": "hispanic-worcester",
   "metadata": {},
   "outputs": [],
   "source": [
    "import pandas as pd\n",
    "from sklearn.metrics import accuracy_score"
   ]
  },
  {
   "cell_type": "code",
   "execution_count": 3,
   "id": "romance-paper",
   "metadata": {},
   "outputs": [],
   "source": [
    "def carregar_acessos1():\n",
    "    \n",
    "    df = pd.read_csv('acesso.csv')\n",
    "    \n",
    "    X = df.filter(['acessou_home','acessou_como_funciona','acessou_contato'], axis=1)\n",
    "    \n",
    "    Y = df.filter(['comprou'], axis=1)\n",
    "        \n",
    "    return X, Y\n",
    "    "
   ]
  },
  {
   "cell_type": "code",
   "execution_count": 4,
   "id": "helpful-smith",
   "metadata": {},
   "outputs": [],
   "source": [
    "X, Y = carregar_acessos1()"
   ]
  },
  {
   "cell_type": "code",
   "execution_count": 5,
   "id": "suffering-vermont",
   "metadata": {},
   "outputs": [
    {
     "data": {
      "text/html": [
       "<div>\n",
       "<style scoped>\n",
       "    .dataframe tbody tr th:only-of-type {\n",
       "        vertical-align: middle;\n",
       "    }\n",
       "\n",
       "    .dataframe tbody tr th {\n",
       "        vertical-align: top;\n",
       "    }\n",
       "\n",
       "    .dataframe thead th {\n",
       "        text-align: right;\n",
       "    }\n",
       "</style>\n",
       "<table border=\"1\" class=\"dataframe\">\n",
       "  <thead>\n",
       "    <tr style=\"text-align: right;\">\n",
       "      <th></th>\n",
       "      <th>acessou_home</th>\n",
       "      <th>acessou_como_funciona</th>\n",
       "      <th>acessou_contato</th>\n",
       "    </tr>\n",
       "  </thead>\n",
       "  <tbody>\n",
       "    <tr>\n",
       "      <th>0</th>\n",
       "      <td>1</td>\n",
       "      <td>1</td>\n",
       "      <td>0</td>\n",
       "    </tr>\n",
       "    <tr>\n",
       "      <th>1</th>\n",
       "      <td>1</td>\n",
       "      <td>1</td>\n",
       "      <td>0</td>\n",
       "    </tr>\n",
       "  </tbody>\n",
       "</table>\n",
       "</div>"
      ],
      "text/plain": [
       "   acessou_home  acessou_como_funciona  acessou_contato\n",
       "0             1                      1                0\n",
       "1             1                      1                0"
      ]
     },
     "execution_count": 5,
     "metadata": {},
     "output_type": "execute_result"
    }
   ],
   "source": [
    "X.head(2)"
   ]
  },
  {
   "cell_type": "code",
   "execution_count": 6,
   "id": "naughty-signal",
   "metadata": {},
   "outputs": [
    {
     "data": {
      "text/html": [
       "<div>\n",
       "<style scoped>\n",
       "    .dataframe tbody tr th:only-of-type {\n",
       "        vertical-align: middle;\n",
       "    }\n",
       "\n",
       "    .dataframe tbody tr th {\n",
       "        vertical-align: top;\n",
       "    }\n",
       "\n",
       "    .dataframe thead th {\n",
       "        text-align: right;\n",
       "    }\n",
       "</style>\n",
       "<table border=\"1\" class=\"dataframe\">\n",
       "  <thead>\n",
       "    <tr style=\"text-align: right;\">\n",
       "      <th></th>\n",
       "      <th>comprou</th>\n",
       "    </tr>\n",
       "  </thead>\n",
       "  <tbody>\n",
       "    <tr>\n",
       "      <th>0</th>\n",
       "      <td>0</td>\n",
       "    </tr>\n",
       "    <tr>\n",
       "      <th>1</th>\n",
       "      <td>0</td>\n",
       "    </tr>\n",
       "  </tbody>\n",
       "</table>\n",
       "</div>"
      ],
      "text/plain": [
       "   comprou\n",
       "0        0\n",
       "1        0"
      ]
     },
     "execution_count": 6,
     "metadata": {},
     "output_type": "execute_result"
    }
   ],
   "source": [
    "Y.head(2)"
   ]
  },
  {
   "cell_type": "code",
   "execution_count": 7,
   "id": "infectious-phoenix",
   "metadata": {},
   "outputs": [],
   "source": [
    "# convert all columns of DataFrame\n",
    "X = X.apply(pd.to_numeric) # convert all columns of DataFrame"
   ]
  },
  {
   "cell_type": "code",
   "execution_count": 8,
   "id": "flush-ribbon",
   "metadata": {},
   "outputs": [],
   "source": [
    "# convert all columns of DataFrame\n",
    "Y = Y.apply(pd.to_numeric) # convert all columns of DataFrame"
   ]
  },
  {
   "cell_type": "code",
   "execution_count": 9,
   "id": "municipal-national",
   "metadata": {},
   "outputs": [],
   "source": [
    "X = X.rename(columns = {'acessou_home':'home',\n",
    "                        'acessou_como_funciona': 'como_funciona',\n",
    "                        'acessou_contato': 'comprou'})"
   ]
  },
  {
   "cell_type": "code",
   "execution_count": 10,
   "id": "future-serial",
   "metadata": {},
   "outputs": [
    {
     "data": {
      "text/html": [
       "<div>\n",
       "<style scoped>\n",
       "    .dataframe tbody tr th:only-of-type {\n",
       "        vertical-align: middle;\n",
       "    }\n",
       "\n",
       "    .dataframe tbody tr th {\n",
       "        vertical-align: top;\n",
       "    }\n",
       "\n",
       "    .dataframe thead th {\n",
       "        text-align: right;\n",
       "    }\n",
       "</style>\n",
       "<table border=\"1\" class=\"dataframe\">\n",
       "  <thead>\n",
       "    <tr style=\"text-align: right;\">\n",
       "      <th></th>\n",
       "      <th>home</th>\n",
       "      <th>como_funciona</th>\n",
       "      <th>comprou</th>\n",
       "    </tr>\n",
       "  </thead>\n",
       "  <tbody>\n",
       "    <tr>\n",
       "      <th>0</th>\n",
       "      <td>1</td>\n",
       "      <td>1</td>\n",
       "      <td>0</td>\n",
       "    </tr>\n",
       "    <tr>\n",
       "      <th>1</th>\n",
       "      <td>1</td>\n",
       "      <td>1</td>\n",
       "      <td>0</td>\n",
       "    </tr>\n",
       "    <tr>\n",
       "      <th>2</th>\n",
       "      <td>1</td>\n",
       "      <td>1</td>\n",
       "      <td>0</td>\n",
       "    </tr>\n",
       "    <tr>\n",
       "      <th>3</th>\n",
       "      <td>1</td>\n",
       "      <td>1</td>\n",
       "      <td>0</td>\n",
       "    </tr>\n",
       "    <tr>\n",
       "      <th>4</th>\n",
       "      <td>1</td>\n",
       "      <td>1</td>\n",
       "      <td>0</td>\n",
       "    </tr>\n",
       "    <tr>\n",
       "      <th>...</th>\n",
       "      <td>...</td>\n",
       "      <td>...</td>\n",
       "      <td>...</td>\n",
       "    </tr>\n",
       "    <tr>\n",
       "      <th>94</th>\n",
       "      <td>0</td>\n",
       "      <td>0</td>\n",
       "      <td>1</td>\n",
       "    </tr>\n",
       "    <tr>\n",
       "      <th>95</th>\n",
       "      <td>1</td>\n",
       "      <td>1</td>\n",
       "      <td>1</td>\n",
       "    </tr>\n",
       "    <tr>\n",
       "      <th>96</th>\n",
       "      <td>0</td>\n",
       "      <td>0</td>\n",
       "      <td>1</td>\n",
       "    </tr>\n",
       "    <tr>\n",
       "      <th>97</th>\n",
       "      <td>0</td>\n",
       "      <td>1</td>\n",
       "      <td>0</td>\n",
       "    </tr>\n",
       "    <tr>\n",
       "      <th>98</th>\n",
       "      <td>0</td>\n",
       "      <td>0</td>\n",
       "      <td>0</td>\n",
       "    </tr>\n",
       "  </tbody>\n",
       "</table>\n",
       "<p>99 rows × 3 columns</p>\n",
       "</div>"
      ],
      "text/plain": [
       "    home  como_funciona  comprou\n",
       "0      1              1        0\n",
       "1      1              1        0\n",
       "2      1              1        0\n",
       "3      1              1        0\n",
       "4      1              1        0\n",
       "..   ...            ...      ...\n",
       "94     0              0        1\n",
       "95     1              1        1\n",
       "96     0              0        1\n",
       "97     0              1        0\n",
       "98     0              0        0\n",
       "\n",
       "[99 rows x 3 columns]"
      ]
     },
     "execution_count": 10,
     "metadata": {},
     "output_type": "execute_result"
    }
   ],
   "source": [
    "X"
   ]
  },
  {
   "cell_type": "code",
   "execution_count": 11,
   "id": "front-carpet",
   "metadata": {},
   "outputs": [
    {
     "data": {
      "text/plain": [
       "MultinomialNB()"
      ]
     },
     "execution_count": 11,
     "metadata": {},
     "output_type": "execute_result"
    }
   ],
   "source": [
    "from sklearn.naive_bayes import MultinomialNB\n",
    "modelo = MultinomialNB()\n",
    "modelo.fit(X, Y['comprou'])"
   ]
  },
  {
   "cell_type": "code",
   "execution_count": 12,
   "id": "featured-grace",
   "metadata": {},
   "outputs": [],
   "source": [
    "resultado = modelo.predict(X)"
   ]
  },
  {
   "cell_type": "code",
   "execution_count": 13,
   "id": "third-render",
   "metadata": {},
   "outputs": [],
   "source": [
    "diferencas = resultado - Y['comprou']"
   ]
  },
  {
   "cell_type": "code",
   "execution_count": 14,
   "id": "opponent-armstrong",
   "metadata": {},
   "outputs": [
    {
     "name": "stdout",
     "output_type": "stream",
     "text": [
      "93.93939393939394\n",
      "99\n"
     ]
    }
   ],
   "source": [
    "acertos = [d for d in diferencas if d == 0]\n",
    "total_de_acertos = len(acertos)\n",
    "total_de_elementos = len(X)\n",
    "\n",
    "taxa_de_acerto = 100.0 * total_de_acertos / total_de_elementos\n",
    "\n",
    "print(taxa_de_acerto)\n",
    "print(total_de_elementos)"
   ]
  },
  {
   "cell_type": "code",
   "execution_count": 15,
   "id": "destroyed-ambassador",
   "metadata": {},
   "outputs": [],
   "source": [
    "## Taxa de acerto alta porque o teste esta sendo feito com os mesmos dados do treino"
   ]
  },
  {
   "cell_type": "code",
   "execution_count": 16,
   "id": "detailed-active",
   "metadata": {},
   "outputs": [],
   "source": [
    "treino_dados = X.iloc[:90]\n",
    "treino_marcacoes = Y.iloc[:90]\n",
    "\n",
    "teste_dados = X.iloc[-9:]\n",
    "teste_marcacoes = Y.iloc[-9:]"
   ]
  },
  {
   "cell_type": "code",
   "execution_count": 17,
   "id": "polyphonic-advisory",
   "metadata": {},
   "outputs": [
    {
     "name": "stdout",
     "output_type": "stream",
     "text": [
      "88.88888888888889\n",
      "9\n"
     ]
    }
   ],
   "source": [
    "modelo = MultinomialNB()\n",
    "modelo.fit(treino_dados, treino_marcacoes['comprou'])\n",
    "\n",
    "resultado = modelo.predict(teste_dados)\n",
    "diferencas = resultado - teste_marcacoes['comprou']\n",
    "\n",
    "acertos = [d for d in diferencas if d == 0]\n",
    "total_de_acertos = len(acertos)\n",
    "total_de_elementos = len(teste_dados)\n",
    "\n",
    "taxa_de_acerto = 100.0 * total_de_acertos / total_de_elementos\n",
    "\n",
    "print(taxa_de_acerto)\n",
    "print(total_de_elementos)"
   ]
  },
  {
   "cell_type": "code",
   "execution_count": null,
   "id": "clean-barbados",
   "metadata": {},
   "outputs": [],
   "source": [
    "def carregar_acessos3():\n",
    "    \n",
    "    df = pd.read_csv('busca2.csv')\n",
    "    \n",
    "    X_df = df.filter(['home','busca','logado'], axis=1)\n",
    "    \n",
    "    Y_df = df.filter(['comprou'], axis=1)\n",
    "        \n",
    "    return X, Y\n",
    "\n",
    "X_df, Y_df = carregar_acessos3()"
   ]
  },
  {
   "cell_type": "code",
   "execution_count": null,
   "id": "requested-prague",
   "metadata": {},
   "outputs": [],
   "source": [
    "Xdummies_df = pd.get_dummies(X_df['busca'].values)\n",
    "Ydummies_df = Y_df\n",
    "\n",
    "X = Xdummies_df.values\n",
    "Y = Ydummies_df.values"
   ]
  },
  {
   "cell_type": "code",
   "execution_count": null,
   "id": "competent-potato",
   "metadata": {},
   "outputs": [],
   "source": [
    "tamanho_de_treino = int(0.9 * len(Y))\n",
    "tamanho_de_teste = len(Y) - tamanho_de_treino\n",
    "\n",
    "treino_dados = X[:tamanho_de_treino]\n",
    "treino_marcacoes = Y[:tamanho_de_treino]\n",
    "\n",
    "teste_dados = X[-tamanho_de_teste:]\n",
    "teste_marcacoes = Y[-tamanho_de_teste:]\n",
    "\n",
    "modelo = MultinomialNB()\n",
    "modelo.fit(treino_dados, treino_marcacoes)\n",
    "\n",
    "resultado = modelo.predict(teste_dados)\n",
    "\n",
    "taxa_de_acerto = accuracy_score(teste_marcacoes, resultado)*100\n",
    "print('A taxa de acerto foi de %.2f%%' % taxa_de_acerto)\n",
    "\n",
    "taxa_de_acerto_base = 100.0 * sum(teste_marcacoes)[0] / len(teste_marcacoes)\n",
    "print('A taxa de acerto base é de: %.2f%%' % taxa_de_acerto_base)"
   ]
  }
 ],
 "metadata": {
  "kernelspec": {
   "display_name": "Python 3",
   "language": "python",
   "name": "python3"
  },
  "language_info": {
   "codemirror_mode": {
    "name": "ipython",
    "version": 3
   },
   "file_extension": ".py",
   "mimetype": "text/x-python",
   "name": "python",
   "nbconvert_exporter": "python",
   "pygments_lexer": "ipython3",
   "version": "3.8.2"
  }
 },
 "nbformat": 4,
 "nbformat_minor": 5
}
