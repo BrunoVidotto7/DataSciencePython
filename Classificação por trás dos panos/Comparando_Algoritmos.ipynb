{
 "cells": [
  {
   "cell_type": "markdown",
   "id": "pediatric-factor",
   "metadata": {},
   "source": [
    "## Algoritmo AdaBoost"
   ]
  },
  {
   "cell_type": "code",
   "execution_count": 1,
   "id": "fitted-croatia",
   "metadata": {},
   "outputs": [],
   "source": [
    "import pandas as pd\n",
    "from sklearn.metrics import accuracy_score\n",
    "from sklearn.ensemble import AdaBoostClassifier\n",
    "from sklearn.naive_bayes import MultinomialNB"
   ]
  },
  {
   "cell_type": "code",
   "execution_count": 2,
   "id": "acoustic-fleece",
   "metadata": {},
   "outputs": [],
   "source": [
    "def carregar_acessos():\n",
    "    \n",
    "    df = pd.read_csv('busca.csv')\n",
    "    \n",
    "    X_df = df.filter(['home','busca','logado'], axis=1)\n",
    "    \n",
    "    Y_df = df.filter(['comprou'], axis=1)\n",
    "        \n",
    "    return X_df, Y_df\n",
    "\n",
    "X_df, Y_df = carregar_acessos()"
   ]
  },
  {
   "cell_type": "code",
   "execution_count": 3,
   "id": "black-holly",
   "metadata": {},
   "outputs": [],
   "source": [
    "Xdummies_df = pd.get_dummies(X_df)\n",
    "Ydummies_df = Y_df\n",
    "\n",
    "X = Xdummies_df.values\n",
    "Y = Ydummies_df.values"
   ]
  },
  {
   "cell_type": "code",
   "execution_count": 4,
   "id": "straight-start",
   "metadata": {},
   "outputs": [],
   "source": [
    "tamanho_de_treino = int(0.8 * len(Y))\n",
    "tamanho_de_teste = int(0.1 * len(Y))\n",
    "tamanho_validacao = int(0.1 * len(Y))\n",
    "\n",
    "#0 ate 80%\n",
    "treino_dados = X[:tamanho_de_treino]\n",
    "treino_marcacoes = Y[:tamanho_de_treino]\n",
    "\n",
    "#80% até 90%\n",
    "teste_dados = X[tamanho_de_treino:tamanho_de_treino+tamanho_de_teste]\n",
    "teste_marcacoes = Y[tamanho_de_treino:tamanho_de_treino+tamanho_de_teste]\n",
    "\n",
    "#90% até 100%    \n",
    "validacao_dados = X[-tamanho_validacao:]\n",
    "validacao_marcacoes = Y[-tamanho_validacao:]"
   ]
  },
  {
   "cell_type": "code",
   "execution_count": 5,
   "id": "invalid-chamber",
   "metadata": {},
   "outputs": [],
   "source": [
    "def fit_and_predict(modelo, treino_dados, treino_marcacoes, teste_dados, teste_marcacoes):\n",
    " \n",
    "    modelo.fit(treino_dados, treino_marcacoes)\n",
    "\n",
    "    resultado = modelo.predict(teste_dados)\n",
    "\n",
    "    return  accuracy_score(teste_marcacoes, resultado)*100\n",
    "\n"
   ]
  },
  {
   "cell_type": "code",
   "execution_count": 6,
   "id": "provincial-eligibility",
   "metadata": {},
   "outputs": [
    {
     "name": "stdout",
     "output_type": "stream",
     "text": [
      "A taxa de acerto base é de: 85.71%\n",
      "Para o MultinomialNB: \n",
      "A taxa de acerto foi de 85.71%\n",
      "Para o AdaBoost: \n",
      "A taxa de acerto foi de 85.71%\n",
      "Para o algoritmo com maior taxa de acertos: \n",
      "A taxa de acerto no mundo real do algoritmo vencedor foi de 71.43%\n"
     ]
    },
    {
     "name": "stderr",
     "output_type": "stream",
     "text": [
      "c:\\robotframework_python3\\lib\\site-packages\\sklearn\\utils\\validation.py:63: DataConversionWarning: A column-vector y was passed when a 1d array was expected. Please change the shape of y to (n_samples, ), for example using ravel().\n",
      "  return f(*args, **kwargs)\n",
      "c:\\robotframework_python3\\lib\\site-packages\\sklearn\\utils\\validation.py:63: DataConversionWarning: A column-vector y was passed when a 1d array was expected. Please change the shape of y to (n_samples, ), for example using ravel().\n",
      "  return f(*args, **kwargs)\n"
     ]
    }
   ],
   "source": [
    "taxa_de_acerto_base = 100.0 * sum(teste_marcacoes)[0] / len(teste_marcacoes)\n",
    "print('A taxa de acerto base é de: %.2f%%' % taxa_de_acerto_base)\n",
    "\n",
    "modelo_NB = MultinomialNB()\n",
    "print(\"Para o MultinomialNB: \")\n",
    "taxa_de_acerto_NB = fit_and_predict(modelo_NB, treino_dados, treino_marcacoes, teste_dados, teste_marcacoes)\n",
    "print('A taxa de acerto foi de %.2f%%' % taxa_de_acerto_NB)\n",
    "\n",
    "modelo_Ada = AdaBoostClassifier()\n",
    "print(\"Para o AdaBoost: \")\n",
    "taxa_de_acerto_ada = fit_and_predict(modelo_Ada, treino_dados, treino_marcacoes, teste_dados, teste_marcacoes)\n",
    "print('A taxa de acerto foi de %.2f%%' % taxa_de_acerto_ada)\n",
    "\n",
    "if taxa_de_acerto_NB > taxa_de_acerto_ada:\n",
    "    vencedor = modelo_NB\n",
    "else:\n",
    "    vencedor = modelo_Ada\n",
    "\n",
    "print(\"Para o algoritmo com maior taxa de acertos: \")\n",
    "resultado = vencedor.predict(validacao_dados)\n",
    "taxa_de_acerto_vencedor = accuracy_score(validacao_marcacoes, resultado)*100\n",
    "\n",
    "print('A taxa de acerto no mundo real do algoritmo vencedor foi de %.2f%%' % taxa_de_acerto_vencedor)"
   ]
  },
  {
   "cell_type": "code",
   "execution_count": null,
   "id": "female-backing",
   "metadata": {},
   "outputs": [],
   "source": []
  }
 ],
 "metadata": {
  "kernelspec": {
   "display_name": "Python 3",
   "language": "python",
   "name": "python3"
  },
  "language_info": {
   "codemirror_mode": {
    "name": "ipython",
    "version": 3
   },
   "file_extension": ".py",
   "mimetype": "text/x-python",
   "name": "python",
   "nbconvert_exporter": "python",
   "pygments_lexer": "ipython3",
   "version": "3.8.2"
  }
 },
 "nbformat": 4,
 "nbformat_minor": 5
}
