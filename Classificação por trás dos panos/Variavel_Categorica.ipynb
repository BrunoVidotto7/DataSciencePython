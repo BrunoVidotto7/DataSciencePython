{
 "cells": [
  {
   "cell_type": "code",
   "execution_count": 16,
   "id": "devoted-shoot",
   "metadata": {},
   "outputs": [],
   "source": [
    "import pandas as pd\n",
    "from sklearn.metrics import accuracy_score\n",
    "from sklearn.naive_bayes import MultinomialNB"
   ]
  },
  {
   "cell_type": "markdown",
   "id": "molecular-scottish",
   "metadata": {},
   "source": [
    "## Variável catégorica"
   ]
  },
  {
   "cell_type": "code",
   "execution_count": 8,
   "id": "determined-melissa",
   "metadata": {},
   "outputs": [],
   "source": [
    "def carregar_acessos2():\n",
    "    \n",
    "    df = pd.read_csv('busca.csv')\n",
    "    \n",
    "    X_df = df.filter(['home','busca','logado'], axis=1)\n",
    "    \n",
    "    Y_df = df.filter(['comprou'], axis=1)\n",
    "        \n",
    "    return X_df, Y_df"
   ]
  },
  {
   "cell_type": "code",
   "execution_count": 9,
   "id": "arranged-madrid",
   "metadata": {},
   "outputs": [],
   "source": [
    "X_df, Y_df = carregar_acessos2()"
   ]
  },
  {
   "cell_type": "code",
   "execution_count": 10,
   "id": "permanent-basin",
   "metadata": {},
   "outputs": [
    {
     "data": {
      "text/html": [
       "<div>\n",
       "<style scoped>\n",
       "    .dataframe tbody tr th:only-of-type {\n",
       "        vertical-align: middle;\n",
       "    }\n",
       "\n",
       "    .dataframe tbody tr th {\n",
       "        vertical-align: top;\n",
       "    }\n",
       "\n",
       "    .dataframe thead th {\n",
       "        text-align: right;\n",
       "    }\n",
       "</style>\n",
       "<table border=\"1\" class=\"dataframe\">\n",
       "  <thead>\n",
       "    <tr style=\"text-align: right;\">\n",
       "      <th></th>\n",
       "      <th>home</th>\n",
       "      <th>busca</th>\n",
       "      <th>logado</th>\n",
       "    </tr>\n",
       "  </thead>\n",
       "  <tbody>\n",
       "    <tr>\n",
       "      <th>0</th>\n",
       "      <td>0</td>\n",
       "      <td>algoritmos</td>\n",
       "      <td>1</td>\n",
       "    </tr>\n",
       "    <tr>\n",
       "      <th>1</th>\n",
       "      <td>0</td>\n",
       "      <td>java</td>\n",
       "      <td>0</td>\n",
       "    </tr>\n",
       "    <tr>\n",
       "      <th>2</th>\n",
       "      <td>1</td>\n",
       "      <td>algoritmos</td>\n",
       "      <td>0</td>\n",
       "    </tr>\n",
       "    <tr>\n",
       "      <th>3</th>\n",
       "      <td>1</td>\n",
       "      <td>ruby</td>\n",
       "      <td>1</td>\n",
       "    </tr>\n",
       "    <tr>\n",
       "      <th>4</th>\n",
       "      <td>1</td>\n",
       "      <td>ruby</td>\n",
       "      <td>0</td>\n",
       "    </tr>\n",
       "    <tr>\n",
       "      <th>...</th>\n",
       "      <td>...</td>\n",
       "      <td>...</td>\n",
       "      <td>...</td>\n",
       "    </tr>\n",
       "    <tr>\n",
       "      <th>995</th>\n",
       "      <td>0</td>\n",
       "      <td>ruby</td>\n",
       "      <td>0</td>\n",
       "    </tr>\n",
       "    <tr>\n",
       "      <th>996</th>\n",
       "      <td>0</td>\n",
       "      <td>ruby</td>\n",
       "      <td>0</td>\n",
       "    </tr>\n",
       "    <tr>\n",
       "      <th>997</th>\n",
       "      <td>0</td>\n",
       "      <td>java</td>\n",
       "      <td>1</td>\n",
       "    </tr>\n",
       "    <tr>\n",
       "      <th>998</th>\n",
       "      <td>1</td>\n",
       "      <td>algoritmos</td>\n",
       "      <td>0</td>\n",
       "    </tr>\n",
       "    <tr>\n",
       "      <th>999</th>\n",
       "      <td>0</td>\n",
       "      <td>ruby</td>\n",
       "      <td>1</td>\n",
       "    </tr>\n",
       "  </tbody>\n",
       "</table>\n",
       "<p>1000 rows × 3 columns</p>\n",
       "</div>"
      ],
      "text/plain": [
       "     home       busca  logado\n",
       "0       0  algoritmos       1\n",
       "1       0        java       0\n",
       "2       1  algoritmos       0\n",
       "3       1        ruby       1\n",
       "4       1        ruby       0\n",
       "..    ...         ...     ...\n",
       "995     0        ruby       0\n",
       "996     0        ruby       0\n",
       "997     0        java       1\n",
       "998     1  algoritmos       0\n",
       "999     0        ruby       1\n",
       "\n",
       "[1000 rows x 3 columns]"
      ]
     },
     "execution_count": 10,
     "metadata": {},
     "output_type": "execute_result"
    }
   ],
   "source": [
    "X_df"
   ]
  },
  {
   "cell_type": "code",
   "execution_count": 12,
   "id": "stuffed-christmas",
   "metadata": {},
   "outputs": [],
   "source": [
    "Xdummies_df = pd.get_dummies(X_df)\n",
    "Ydummies_df = Y_df\n",
    "\n",
    "X = Xdummies_df.values\n",
    "Y = Ydummies_df.values"
   ]
  },
  {
   "cell_type": "code",
   "execution_count": 14,
   "id": "appropriate-supplier",
   "metadata": {},
   "outputs": [],
   "source": [
    "tamanho_de_treino = int(0.9 * len(Y))\n",
    "tamanho_de_teste = len(Y) - tamanho_de_treino"
   ]
  },
  {
   "cell_type": "code",
   "execution_count": 17,
   "id": "norwegian-brief",
   "metadata": {},
   "outputs": [
    {
     "name": "stdout",
     "output_type": "stream",
     "text": [
      "A taxa de acerto foi de 82.00%\n"
     ]
    },
    {
     "name": "stderr",
     "output_type": "stream",
     "text": [
      "c:\\robotframework_python3\\lib\\site-packages\\sklearn\\utils\\validation.py:63: DataConversionWarning: A column-vector y was passed when a 1d array was expected. Please change the shape of y to (n_samples, ), for example using ravel().\n",
      "  return f(*args, **kwargs)\n"
     ]
    }
   ],
   "source": [
    "treino_dados = X[:tamanho_de_treino]\n",
    "treino_marcacoes = Y[:tamanho_de_treino]\n",
    "\n",
    "teste_dados = X[-tamanho_de_teste:]\n",
    "teste_marcacoes = Y[-tamanho_de_teste:]\n",
    "\n",
    "modelo = MultinomialNB()\n",
    "modelo.fit(treino_dados, treino_marcacoes)\n",
    "\n",
    "resultado = modelo.predict(teste_dados)\n",
    "\n",
    "taxa_de_acerto = accuracy_score(teste_marcacoes, resultado)*100\n",
    "print('A taxa de acerto foi de %.2f%%' % taxa_de_acerto)"
   ]
  },
  {
   "cell_type": "code",
   "execution_count": 18,
   "id": "annoying-avatar",
   "metadata": {},
   "outputs": [],
   "source": [
    "# O algoritmo burro - chuta 1 pra todos"
   ]
  },
  {
   "cell_type": "code",
   "execution_count": 19,
   "id": "prostate-playing",
   "metadata": {},
   "outputs": [
    {
     "data": {
      "text/plain": [
       "832"
      ]
     },
     "execution_count": 19,
     "metadata": {},
     "output_type": "execute_result"
    }
   ],
   "source": [
    "sum(Y)[0]"
   ]
  },
  {
   "cell_type": "code",
   "execution_count": 20,
   "id": "genuine-terror",
   "metadata": {},
   "outputs": [
    {
     "data": {
      "text/plain": [
       "1000"
      ]
     },
     "execution_count": 20,
     "metadata": {},
     "output_type": "execute_result"
    }
   ],
   "source": [
    "len(Y)"
   ]
  },
  {
   "cell_type": "code",
   "execution_count": 21,
   "id": "guilty-internet",
   "metadata": {},
   "outputs": [],
   "source": [
    "#Calculando com o algoritmo burro usando os mesmos dados utiizados anteriormente"
   ]
  },
  {
   "cell_type": "code",
   "execution_count": 22,
   "id": "latter-duration",
   "metadata": {},
   "outputs": [
    {
     "name": "stdout",
     "output_type": "stream",
     "text": [
      "A taxa de acerto base é de: 82.00%\n"
     ]
    }
   ],
   "source": [
    "taxa_de_acerto_base = 100.0 * sum(teste_marcacoes)[0] / len(teste_marcacoes)\n",
    "print('A taxa de acerto base é de: %.2f%%' % taxa_de_acerto_base)"
   ]
  },
  {
   "cell_type": "code",
   "execution_count": null,
   "id": "historical-network",
   "metadata": {},
   "outputs": [],
   "source": []
  }
 ],
 "metadata": {
  "kernelspec": {
   "display_name": "Python 3",
   "language": "python",
   "name": "python3"
  },
  "language_info": {
   "codemirror_mode": {
    "name": "ipython",
    "version": 3
   },
   "file_extension": ".py",
   "mimetype": "text/x-python",
   "name": "python",
   "nbconvert_exporter": "python",
   "pygments_lexer": "ipython3",
   "version": "3.8.2"
  }
 },
 "nbformat": 4,
 "nbformat_minor": 5
}
